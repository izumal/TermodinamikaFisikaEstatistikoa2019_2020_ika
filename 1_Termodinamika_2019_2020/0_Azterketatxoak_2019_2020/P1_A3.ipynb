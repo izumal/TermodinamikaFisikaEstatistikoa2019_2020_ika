{
 "cells": [
  {
   "cell_type": "markdown",
   "metadata": {},
   "source": [
    "<div class=\"alert alert-warning\">\n",
    "  <h1><i class=\"fa fa-columns\"></i> P1_A2</h1>\n",
    "  <h3> 6. Gaia: 2. Printzipioa</h3>\n",
    "  <h3> 2017-12-05 argitaratuta; 2017-12-11n entregatzekoa, Etxean egitekoa</h3>\n",
    "<br>\n",
    "<br>\n",
    "</div>\n"
   ]
  },
  {
   "cell_type": "markdown",
   "metadata": {},
   "source": [
    "<div class=\"alert alert-info\">\n",
    "  <h4><i class=\"fa fa-pencil\"></i> 1. Ariketa: Beroaren faktore integratzailea</h4>\n",
    "</div>\n",
    "<br>\n",
    "<br>"
   ]
  },
  {
   "cell_type": "markdown",
   "metadata": {},
   "source": [
    "Ondorioztatu eta aztertu edozein sistemaren eta edozein prozesuren kasuan $\\delta Q$ beroaren faktore integratzailearen esangura fisikoa <br>\n",
    "<br>\n",
    "\n",
    "<br>\n",
    "<br>\n",
    "_________________________________\n"
   ]
  },
  {
   "cell_type": "markdown",
   "metadata": {},
   "source": [
    "<div class=\"alert alert-info\">\n",
    "  <h4><i class=\"fa fa-pencil\"></i> 2. Ariketa: <em> Clausius-en Teorema </em></h4>\n",
    "</div>\n",
    "<br>\n",
    "<br>"
   ]
  },
  {
   "cell_type": "markdown",
   "metadata": {},
   "source": [
    "\n",
    "Frogatu *Clausius-en Teorema*  \n",
    "<p></p>\n",
    "<p></p>\n",
    "<p></p>\n",
    "<br>\n",
    "----------------------------------\n",
    "------------------------------------\n"
   ]
  },
  {
   "cell_type": "markdown",
   "metadata": {},
   "source": [
    "<div class=\"alert alert-info\">\n",
    "  <h4><i class=\"fa fa-pencil\"></i> 3. Ariketa: <em> Energia ez-erabilgarria </em></h4>\n",
    "</div>\n",
    "<br>\n",
    "<br>"
   ]
  },
  {
   "cell_type": "markdown",
   "metadata": {},
   "source": [
    "\n",
    "Energia ez-erabligarria.  \n",
    "Dakizun dena. Ondo azalduta.  \n",
    "<p></p>\n",
    "<p></p>\n",
    "<p></p>\n",
    "<br>\n",
    "----------------------------------\n",
    "------------------------------------\n"
   ]
  },
  {
   "cell_type": "markdown",
   "metadata": {},
   "source": [
    "<div class=\"alert alert-info\">\n",
    " <h4><i class=\"fa fa-pencil\"></i> 4. Ariketa: gas idealen nahastura</h4>\n",
    "</div>\n",
    "<br>\n",
    "<br>"
   ]
  },
  {
   "cell_type": "markdown",
   "metadata": {},
   "source": [
    "## Azaldu\n",
    "**nola ebatziko zenuke ariketa.**  \n",
    "\n",
    "10 eta 15 l-ko gordailuak finkoa, adiabatikoa eta iragaztezina den hormak banandu ditu. Lehenengo gunean SO $_{2}$ gasa sartu dugu: 288 K-ean eta 2 atm-n. Bigarrenean, NO gasa; kasu honetan, 300 K-ean eta 1 atm-n.    \n",
    "\n",
    "1. Diatermano eta higikor bihurtu dugu bereizte-horma.    \n",
    "Lortu sistema osoari dagokion entropia-aldaketa.  \n",
    "2. Hasierako baldintzetatik abiatuz, bereizte-horma bat-batean kendu dugu.    \n",
    "Lortu sistema osoari dagokion entropia-aldaketa.  \n",
    "3. Gordailuetako gasak berdinak izanik, nola aldatuko lirateke aurreko emaitzak? \n",
    "\n",
    "\n",
    "\n"
   ]
  }
 ],
 "metadata": {
  "anaconda-cloud": {},
  "kernelspec": {
   "display_name": "Python [conda root]",
   "language": "python",
   "name": "conda-root-py"
  },
  "language_info": {
   "codemirror_mode": {
    "name": "ipython",
    "version": 2
   },
   "file_extension": ".py",
   "mimetype": "text/x-python",
   "name": "python",
   "nbconvert_exporter": "python",
   "pygments_lexer": "ipython2",
   "version": "2.7.14"
  },
  "latex_envs": {
   "bibliofile": "biblio.bib",
   "cite_by": "apalike",
   "current_citInitial": 1,
   "eqLabelWithNumbers": true,
   "eqNumInitial": 0
  }
 },
 "nbformat": 4,
 "nbformat_minor": 1
}
