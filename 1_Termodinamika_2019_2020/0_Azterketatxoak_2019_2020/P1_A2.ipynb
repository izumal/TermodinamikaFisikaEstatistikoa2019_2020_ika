{
 "cells": [
  {
   "cell_type": "markdown",
   "metadata": {},
   "source": [
    "<div class=\"alert alert-warning\">\n",
    "  <h1><i class=\"fa fa-columns\"></i> P1_A2</h1>\n",
    "  <h3> 1., 2., 3., 4. eta 5. Gaiak</h3>\n",
    "  <h3> 2017-10-26 argitaratuta; 2017-10-30ean entregatzekoa, Etxean egitekoa</h3>\n",
    "<br>\n",
    "<br>\n",
    "</div>\n"
   ]
  },
  {
   "cell_type": "markdown",
   "metadata": {},
   "source": [
    "<div class=\"alert alert-info\">\n",
    " <h4><i class=\"fa fa-pencil\"></i> 1. Ariketa: askatasun-graduak</h4>\n",
    "</div>\n",
    "<br>\n",
    "<br>"
   ]
  },
  {
   "cell_type": "markdown",
   "metadata": {},
   "source": [
    "Esan zenbat askatasun-gradu dituen sistema konposatuak, a), b), c) eta d) etiketez adierazitako bereizte-hormak jarriko baditugu irudiko 1, 2 eta 3 bereizte-hormak ordezkatuz.\n",
    "<br>\n",
    "<br>\n",
    "\n",
    "<div class=\"col-sm-12 nopadding\"><img class=\"img-responsive\" src=\"P1_A2_irudia_1.jpg\" width=\"500\"></div>\n",
    "\n",
    "<br>\n",
    "<br>\n"
   ]
  },
  {
   "cell_type": "markdown",
   "metadata": {},
   "source": [
    "<div class=\"alert alert-success\">\n",
    " <h4><i class=\"fa fa-pencil\"></i> van der Waals-en egoera-ekuazio mekanikoa\n",
    " </h4>\n",
    "</div>\n",
    "<br>\n",
    "<br>"
   ]
  },
  {
   "cell_type": "markdown",
   "metadata": {},
   "source": [
    "$$ \\left( p + a\\,\\frac{ n^{2}}{V^{2}} \\right) ( V - b) = n\\, R\\, T  $$  \n",
    "    \n",
    "$$ \\left( p + \\frac{a\\, }{v^{2}} \\right) ( v - b) =  R\\, T  $$  \n",
    "    \n",
    "    \n"
   ]
  },
  {
   "cell_type": "markdown",
   "metadata": {},
   "source": [
    "<div class=\"alert alert-info\">\n",
    "  <h4><i class=\"fa fa-pencil\"></i> 2. Ariketa: <em> prozesuen adierazpena </em></h4>\n",
    "</div>\n",
    "<br>\n",
    "<br>"
   ]
  },
  {
   "cell_type": "markdown",
   "metadata": {},
   "source": [
    "*van der Waals*-en egoera-ekuazioari segitzen dion jariakinaren kasuan,\n",
    "lortu prozesu adiabatiko kuasiestatikoen adierazpena $T/V$ diagraman.\n",
    "<p></p>\n",
    "<p></p>\n",
    "<p></p>\n",
    "<br>\n",
    "<br>\n",
    "<h5>Ebazpen bat</h5>\n",
    "<br>\n",
    "<br>\n",
    "    \n"
   ]
  },
  {
   "cell_type": "markdown",
   "metadata": {},
   "source": [
    "<div class=\"alert alert-info\">\n",
    "  <h4><i class=\"fa fa-pencil\"></i> 3. Ariketa: <em> Sistemen egoera-ekuazioen lorpena </em></h4>\n",
    "</div>\n",
    "<br>\n",
    "<br>"
   ]
  },
  {
   "cell_type": "markdown",
   "metadata": {},
   "source": [
    "*van der Wals*-en egoera-ekuazioari segitzen dion jariakinaren kasuan,\n",
    "lortu zer forma duen barne-energiak, $(T, V)$ aldagaiak independentetzat hartuta.\n",
    "<br>\n",
    "<br>\n",
    "\n",
    "<h5>Ebazpen bat</a></h5>\n",
    "<br>\n",
    "<br>\n",
    "\n"
   ]
  },
  {
   "cell_type": "markdown",
   "metadata": {},
   "source": [
    "<div class=\"alert alert-info\">\n",
    "  <h4><i class=\"fa fa-pencil\"></i> 4. Ariketa: Lana orokorrean</h4>\n",
    "</div>\n",
    "<br>\n",
    "<br>"
   ]
  },
  {
   "cell_type": "markdown",
   "metadata": {},
   "source": [
    "1. Demagun  aztertu behar den sistemari dagokion lanaren definizioa honako hau dela:  \n",
    "  $$ \\delta W = -X dY $$  \n",
    "  \n",
    "  Ezkerreko irudian adierazi den ibilbidean eramanez gero sistema:  \n",
    "   - lana kanporatu al bereganatu du?  \n",
    "   - zenbat balio du?  \n",
    "<br>\n",
    "2. Eskuineko irudian adierazitako prozesuetan zenbatekoa da lana?  \n",
    "<br>\n",
    "<div class=\"row\">                   \n",
    "    <div class=\"col-sm-4 nopadding\"><img class=\"img-responsive\" src=\"P1_A2_irudia_ez.jpg\"></div>\n",
    "    <div class=\"col-sm-8 nopadding\"><img class=\"img-responsive\" src=\"P1_A2_irudia_es.jpg\"></div>              \n",
    "<br>\n",
    "<br>\n",
    "\n",
    "\n",
    "<h5>Ebazpen bat</h5>\n",
    "<br>\n",
    "<br>\n",
    "\n",
    "<br>\n",
    "<br>\n"
   ]
  }
 ],
 "metadata": {
  "anaconda-cloud": {},
  "kernelspec": {
   "display_name": "Python [conda root]",
   "language": "python",
   "name": "conda-root-py"
  },
  "language_info": {
   "codemirror_mode": {
    "name": "ipython",
    "version": 2
   },
   "file_extension": ".py",
   "mimetype": "text/x-python",
   "name": "python",
   "nbconvert_exporter": "python",
   "pygments_lexer": "ipython2",
   "version": "2.7.13"
  },
  "latex_envs": {
   "bibliofile": "biblio.bib",
   "cite_by": "apalike",
   "current_citInitial": 1,
   "eqLabelWithNumbers": true,
   "eqNumInitial": 0
  }
 },
 "nbformat": 4,
 "nbformat_minor": 1
}
