{
 "cells": [
  {
   "cell_type": "code",
   "execution_count": 1,
   "metadata": {},
   "outputs": [
    {
     "data": {
      "text/html": [
       "<style>.container { width:85% !important; }</style>"
      ],
      "text/plain": [
       "<IPython.core.display.HTML object>"
      ]
     },
     "metadata": {},
     "output_type": "display_data"
    }
   ],
   "source": [
    "from IPython.core.display import display, HTML\n",
    "display(HTML(\"<style>.container { width:85% !important; }</style>\"))\n",
    "\n",
    "\n",
    "%config InlineBackend.figure_format = 'retina'"
   ]
  },
  {
   "cell_type": "code",
   "execution_count": 2,
   "metadata": {},
   "outputs": [],
   "source": [
    "import numpy as np\n",
    "\n",
    "%matplotlib inline"
   ]
  },
  {
   "cell_type": "code",
   "execution_count": 3,
   "metadata": {},
   "outputs": [
    {
     "data": {
      "text/plain": [
       "13501.035255319557"
      ]
     },
     "execution_count": 3,
     "metadata": {},
     "output_type": "execute_result"
    }
   ],
   "source": [
    "R = 1.98\n",
    "\n",
    "\n",
    "m_M = 78.0         ### Bentzenoaren masa molekularra\n",
    "t_f = 273. + 80.0  #   fase-trantsizioaren tenperatura\n",
    "\n",
    "t_f2 = 500         #   tenperatura honi, zer presio dagokio?\n",
    "\n",
    "# konstantea mm-Hg\n",
    "K_0 = np.log(760) + ((86.0*m_M)/(R * t_f))\n",
    "\n",
    "ln_p_0 = - (86.0/(R * t_f2)) + K_0\n",
    "\n",
    "p_0 = np.exp(ln_p_0) / 760.0\n",
    "\n",
    "p_0\n",
    "          "
   ]
  },
  {
   "cell_type": "code",
   "execution_count": 4,
   "metadata": {},
   "outputs": [
    {
     "data": {
      "text/plain": [
       "9.597390333934245"
      ]
     },
     "execution_count": 4,
     "metadata": {},
     "output_type": "execute_result"
    }
   ],
   "source": [
    "##############\n",
    "\n",
    "\n",
    "K_1 = np.log(1.0) + ((86.0*m_M)/(R * t_f))\n",
    "\n",
    "ln_p_1 = - (86.0/(R * t_f2)) + K_1\n",
    "\n",
    "p_1 = np.exp(ln_p_1) / 760.0\n",
    "\n",
    "p_1\n",
    "       \n",
    "\n",
    "K_1"
   ]
  },
  {
   "cell_type": "code",
   "execution_count": null,
   "metadata": {},
   "outputs": [],
   "source": [
    "#############\n",
    "\n",
    "m_benzeno = 1.0\n",
    "\n",
    "n_lurr = (0.008*35.0)/(0.082*333)\n",
    "m_lurr = n_lurr * 78.\n",
    "m_lik = 1.0 - m_lurr\n",
    "\n",
    "X_gas = m_lurr/m_benzeno\n",
    "X_lik = m_lik/m_benzeno\n",
    "v_gas = 356.0\n",
    "v_lik = 1.2\n",
    "\n",
    "v_T = X_gas * v_gas + X_lik * v_lik\n",
    "\n",
    "v_T"
   ]
  }
 ],
 "metadata": {
  "kernelspec": {
   "display_name": "Python 3",
   "language": "python",
   "name": "python3"
  },
  "language_info": {
   "codemirror_mode": {
    "name": "ipython",
    "version": 3
   },
   "file_extension": ".py",
   "mimetype": "text/x-python",
   "name": "python",
   "nbconvert_exporter": "python",
   "pygments_lexer": "ipython3",
   "version": "3.6.7"
  }
 },
 "nbformat": 4,
 "nbformat_minor": 2
}
