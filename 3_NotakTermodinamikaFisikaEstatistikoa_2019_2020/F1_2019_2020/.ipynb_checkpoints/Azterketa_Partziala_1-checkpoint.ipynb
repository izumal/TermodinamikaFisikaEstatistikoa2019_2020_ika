{
 "cells": [
  {
   "cell_type": "markdown",
   "metadata": {},
   "source": [
    "# Azterketatxoa V\n",
    "### Gaiak: 10, Fase-trantsizioak\n",
    "\n"
   ]
  },
  {
   "cell_type": "markdown",
   "metadata": {},
   "source": [
    "_______________________________________\n",
    "\n",
    "    kualitatiboak"
   ]
  },
  {
   "cell_type": "markdown",
   "metadata": {},
   "source": [
    "### 1. Ariketa\n",
    "\n",
    "Entropia molarrak eta bolumen molarrak dituzten jauziekin lotutako eduki fisikoa, *Callen* liburuko atalean agertzen den moduan.\n",
    "       \n"
   ]
  },
  {
   "cell_type": "markdown",
   "metadata": {},
   "source": [
    "### 2. Ariketa\n",
    "\n",
    "Eskoletan ez dut azaldu *Callen* liburan dagoen beste kontzeptu oso inportantea:   \n",
    "\n",
    "***Zer ondorio dauka potentzial kimikoak balio berbera izateak fase-trantsizioan agertzen diren bi faseetan?***  \n",
    "***Baldintza horren bidez, zer ondorioztatzen da?***"
   ]
  },
  {
   "cell_type": "markdown",
   "metadata": {},
   "source": [
    "______________________________________________________\n",
    "\n",
    "    kuantitatiboak"
   ]
  },
  {
   "cell_type": "markdown",
   "metadata": {},
   "source": [
    "### 3. Ariketa\n",
    "\n",
    "\n",
    "Benzenoaren (C$_{6}$H$_{6}$; masa molekularra 78 g) lurruntze-tenperatura 80$^{\\circ}$C da, presioa 1 atm denean eta, baldintza horietan, benzenoari dagokion lurruntze-beroa 86 cal/g da.   \n",
    "\n",
    "Bestalde, benzeno likidoaren eta gasaren bolumen espezifikoak, aipatutako baldintzatan, $v_{l}=1.2$ cm$^{3}$/g eta $v_{g}=356$ cm$^{3}$/g dira hurrenez hurren.  \n",
    "\n",
    "Esku artean benzenoaren 1 g dugu, oso-osorik gas egoeran dagoena eta $C_{V}=3.3$ cal/K-eko bero-ahalmeneko eta 500 K-ean dagoen sistemarekin batera.  \n",
    "\n",
    "Benzenoa kutxa itxian dugu. Benzenoa eta sistema makina itzulgarriaren bidez termikoki konektatu ditugu.   Makina martxan jarri da eta horrela mantendu da benzenoa erabat likidotu den arte.\n",
    "\n",
    "Lortu honako hauek:\n",
    "\n",
    "- Zer nolako makina itzulgarria da?  \n",
    "- Onartu sistemaren fasea ez dela aldatuko;  \n",
    "  zenbatekoa da bere amaierako tenperatur, $\\Delta T^{sis}$?  \n",
    "- Benzenoaren eta sistemaren entropia-aldakuntzak: $\\Delta S^{\\text{ben}}$, $\\Delta S^{\\text{sis}}$.\n",
    "- Makinak trukatu duen lana: $W$.\n",
    "- Prozesua bukatutakoan, benzenoaren:  \n",
    "  entalpia-aldakuntza ($\\Delta H^{\\text{ben}}$),  \n",
    "  barne-energiaren aldaketa ($\\Delta U^{\\text{ben}}$),  \n",
    "  *Helmholtz*-en funtzioaren aldaketa ($\\Delta F^{\\text{ben}}$) eta  \n",
    "  *Gibbs*-en funtzioaren aldaketa ($\\Delta G^{\\text{ben}}$).  \n",
    "\n"
   ]
  },
  {
   "cell_type": "markdown",
   "metadata": {},
   "source": [
    "### 4. Ariketa\n",
    "\n",
    "\n",
    "Aurreko ariketako prozesua bukatutakoan, benzenoa dagoen kutxa 1 atm-ean eta 60$^{\\circ}$C-an dauden presio-iturriarekin eta bero-iturriarekin kontaktuan dagoen eta $V=35$ *l*-koa den hustutako gordailuan jarri dugu kutxa itxi batean. Kutxa hautsi dugu.\n",
    "\n",
    "Benzeno guztia lurrundu baino lehen neurtu den presioa 0.008 atm da.  \n",
    "Benzeno likidoari dagokion zabalkuntza-koefizientea honako hau da: $\\alpha = 10^{-3}$ K$^{-1}$.  \n",
    "Benzenoaren lurruna gas idealtzat hartu daiteke.\n",
    "\n",
    "\n",
    "- Zenbat benzeno lurrundu da aipatutako presioa neurtu denean?\n",
    "- Zenbatekoa da bezenoari (elkarren arteko orekan dauden bi faseez, likidoa eta gasa, osatutako nahasturari) dagokion bolumen espezifikoa?\n",
    "\n",
    "\n",
    "Benzeno guztia lurrundutakoan gordailuan neurtu dugun presioa 0.01 atm da.  \n",
    "\n",
    "Irudikatu prozesua (osoa, aurreko ariketakoa ere bai) $p/T$ diagraman.   \n",
    "\n",
    "Lortu honako hauek:  \n",
    "\n",
    "- Benzenoaren entropia-aldaketa, prozesua bukatutakoan.\n",
    "- Benzenoaren entalpia-aldaketa ($\\Delta H^{\\text{ben}}$),  \n",
    "  barne-energiaren aldaketa ($\\Delta U^{\\text{ben}}$),  \n",
    "  *Helmholtz*-en funtzioaren aldaketa ($\\Delta F^{\\text{ben}}$) eta  \n",
    "  *Gibbs*-en funtzioaren aldaketa ($\\Delta G^{\\text{ben}}$), fase-trantsizioan.\n",
    "\n"
   ]
  }
 ],
 "metadata": {
  "anaconda-cloud": {},
  "kernelspec": {
   "display_name": "Python 3",
   "language": "python",
   "name": "python3"
  },
  "language_info": {
   "codemirror_mode": {
    "name": "ipython",
    "version": 3
   },
   "file_extension": ".py",
   "mimetype": "text/x-python",
   "name": "python",
   "nbconvert_exporter": "python",
   "pygments_lexer": "ipython3",
   "version": "3.6.7"
  },
  "latex_envs": {
   "bibliofile": "biblio.bib",
   "cite_by": "apalike",
   "current_citInitial": 1,
   "eqLabelWithNumbers": true,
   "eqNumInitial": 0
  }
 },
 "nbformat": 4,
 "nbformat_minor": 1
}
